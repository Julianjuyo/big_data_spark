{
 "cells": [
  {
   "cell_type": "code",
   "execution_count": 1,
   "id": "cda8c691",
   "metadata": {},
   "outputs": [],
   "source": [
    "import os\n",
    "from pyspark.sql import SparkSession\n",
    "from pyspark import SparkConf\n",
    "from pyspark.sql import functions as f\n",
    "from pyspark.sql.types import StringType\n",
    "\n",
    "\n",
    "os.environ[\n",
    "    \"PYSPARK_SUBMIT_ARGS\"\n",
    "] = \"--packages org.apache.hadoop:hadoop-aws:3.2.2,io.delta:delta-core_2.12:1.1.0  pyspark-shell \"\n",
    "\n",
    "os.environ['MINIO_USERNAME'] = 'grupo-02'\n",
    "os.environ['MINIO_PASSWORD'] = '6HgSzdwj8eNpHcux'\n",
    "        \n",
    "config = {\n",
    "    \"spark.jars.packages\":\"org.apache.hadoop:hadoop-aws:3.2.2\",\n",
    "    \"spark.kubernetes.namespace\": \"spark\",\n",
    "    \"spark.kubernetes.container.image\": \"cronosnull/abd-spark-base:202301\",\n",
    "    \"spark.executor.instances\": \"1\",\n",
    "    \"spark.executor.memory\": \"10g\",\n",
    "    \"spark.executor.cores\": \"1\",\n",
    "    \"spark.driver.memory\":\"2g\",\n",
    "    \"spark.driver.port\":\"38890\",\n",
    "    \"spark.driver.blockManager.port\":\"7778\",\n",
    "    \"spark.driver.bindAddress\": \"0.0.0.0\",\n",
    "    \"spark.driver.host\": \"172.24.99.147\",\n",
    "    \"spark.kubernetes.executor.request.cores\":\"500m\",\n",
    "    \"spark.hadoop.fs.s3a.endpoint\": \"http://172.24.99.18:9000\",\n",
    "    # Credenciales de MinNIO, no olvide asignar las variables de entorno  \n",
    "    \"spark.hadoop.fs.s3a.access.key\": os.environ.get('MINIO_USERNAME', \"--\"),\n",
    "    \"spark.hadoop.fs.s3a.secret.key\": os.environ.get('MINIO_PASSWORD', \"--\"),\n",
    "    \"spark.hadoop.fs.s3a.path.style.access\": True,\n",
    "    \"spark.hadoop.fs.s3a.impl\": \"org.apache.hadoop.fs.s3a.S3AFileSystem\",\n",
    "    \"spark.hadoop.fs.s3a.aws.credentials.provider\": \"org.apache.hadoop.fs.s3a.SimpleAWSCredentialsProvider\",\n",
    "    \"spark.kubernetes.local.dirs.tmpfs\":True,\n",
    "\n",
    "}\n",
    "\n",
    "def get_spark_session(app_name: str, conf: SparkConf):\n",
    "    conf.setMaster(\"k8s://https://172.24.99.68:16443\")\n",
    "    for key, value in config.items():\n",
    "        conf.set(key, value)\n",
    "    conf.set(\"spark.ui.port\",\"4042\")\n",
    "    return SparkSession.builder.appName(app_name).config(conf=conf).getOrCreate()"
   ]
  },
  {
   "cell_type": "code",
   "execution_count": 2,
   "id": "952737cf",
   "metadata": {},
   "outputs": [
    {
     "name": "stdout",
     "output_type": "stream",
     "text": [
      "Welcome to\r\n",
      "      ____              __\r\n",
      "     / __/__  ___ _____/ /__\r\n",
      "    _\\ \\/ _ \\/ _ `/ __/  '_/\r\n",
      "   /___/ .__/\\_,_/_/ /_/\\_\\   version 3.2.0\r\n",
      "      /_/\r\n",
      "                        \r\n",
      "Using Scala version 2.12.15, OpenJDK 64-Bit Server VM, 1.8.0_322\r\n",
      "Branch \r\n",
      "Compiled by user  on 2022-03-26T09:34:47Z\r\n",
      "Revision \r\n",
      "Url \r\n",
      "Type --help for more information.\r\n"
     ]
    }
   ],
   "source": [
    "!spark-submit --version"
   ]
  },
  {
   "cell_type": "code",
   "execution_count": 3,
   "id": "17cacac5",
   "metadata": {},
   "outputs": [
    {
     "data": {
      "text/html": [
       "\n",
       "            <div>\n",
       "                <p><b>SparkSession - in-memory</b></p>\n",
       "                \n",
       "        <div>\n",
       "            <p><b>SparkContext</b></p>\n",
       "\n",
       "            <p><a href=\"http://172.24.99.147:4042\">Spark UI</a></p>\n",
       "\n",
       "            <dl>\n",
       "              <dt>Version</dt>\n",
       "                <dd><code>v3.2.0</code></dd>\n",
       "              <dt>Master</dt>\n",
       "                <dd><code>k8s://https://172.24.99.68:16443</code></dd>\n",
       "              <dt>AppName</dt>\n",
       "                <dd><code>NBTest</code></dd>\n",
       "            </dl>\n",
       "        </div>\n",
       "        \n",
       "            </div>\n",
       "        "
      ],
      "text/plain": [
       "<pyspark.sql.session.SparkSession at 0x7f6c98f60040>"
      ]
     },
     "execution_count": 3,
     "metadata": {},
     "output_type": "execute_result"
    }
   ],
   "source": [
    "spark = get_spark_session(\"grupo-02-Tarea1-Punto1\", SparkConf())\n",
    "spark"
   ]
  },
  {
   "cell_type": "code",
   "execution_count": 4,
   "id": "5ea709d5",
   "metadata": {},
   "outputs": [],
   "source": [
    "spStopWords = spark.read.text(\"s3a://user-data/grupo-02/stopwords/spanish\")"
   ]
  },
  {
   "cell_type": "code",
   "execution_count": 5,
   "id": "2eb044e9",
   "metadata": {},
   "outputs": [],
   "source": [
    "columns = spStopWords.select(\"*\").toPandas()\n",
    "col1 = list(columns['value'])"
   ]
  },
  {
   "cell_type": "code",
   "execution_count": null,
   "id": "d1cdaa67",
   "metadata": {},
   "outputs": [],
   "source": [
    "initial = \"s3a://noticias2016/individual_files/news_\"\n",
    "final = \".json.gz\"\n",
    "listpaths = []\n",
    "for i in range(1,175000):\n",
    "    numberString = str(i).zfill(7)\n",
    "    result = initial + numberString + final\n",
    "    listpaths.append(result)\n"
   ]
  },
  {
   "cell_type": "code",
   "execution_count": null,
   "id": "95218ad3",
   "metadata": {},
   "outputs": [],
   "source": [
    "df = spark.read.json(\"s3a://noticias2016/individual_files/news_0000001.json.gz\")\n",
    "schema = df.schema\n",
    "test_df = spark.read.json(listpaths, schema=schema)"
   ]
  },
  {
   "cell_type": "code",
   "execution_count": 6,
   "id": "d7360a7f",
   "metadata": {},
   "outputs": [],
   "source": [
    "df = spark.read.json(\"s3a://noticias2016/individual_files/news_0000001.json.gz\")\n",
    "schema = df.schema\n",
    "test_df = spark.read.json(\"s3a://noticias2016/individual_files/*.json.gz\", schema=schema)"
   ]
  },
  {
   "cell_type": "code",
   "execution_count": null,
   "id": "603cd2bb",
   "metadata": {},
   "outputs": [],
   "source": [
    "rows = test_df.count()\n",
    "print(f\"DataFrame Rows count : {rows}\")"
   ]
  },
  {
   "cell_type": "markdown",
   "id": "5c2d893b",
   "metadata": {},
   "source": [
    "# Parte 1"
   ]
  },
  {
   "cell_type": "markdown",
   "id": "108e6e11",
   "metadata": {},
   "source": [
    "## Punto B - Word Frequency Title"
   ]
  },
  {
   "cell_type": "code",
   "execution_count": null,
   "id": "1681a725",
   "metadata": {},
   "outputs": [],
   "source": [
    "df_title = test_df.select(\"title\")"
   ]
  },
  {
   "cell_type": "code",
   "execution_count": null,
   "id": "c7bb7305",
   "metadata": {},
   "outputs": [],
   "source": [
    "rdd_title = df_title.rdd.map(lambda x: [x[0]])"
   ]
  },
  {
   "cell_type": "code",
   "execution_count": null,
   "id": "91dd5940",
   "metadata": {},
   "outputs": [],
   "source": [
    "rdd_title.take(5)"
   ]
  },
  {
   "cell_type": "code",
   "execution_count": null,
   "id": "73b15217",
   "metadata": {},
   "outputs": [],
   "source": [
    "import re\n",
    "rdd = (\n",
    "    rdd_title.flatMap(lambda line: re.split(r\"\\W+\", str(line).lower()))\n",
    "    .filter(lambda z: re.match(r\"\\b[^\\W\\d_]+\\b\",z))\n",
    "    .filter(lambda x: x!= \"\")\n",
    "    .filter(lambda y: y not in col1)\n",
    "    .map(lambda w: (w, 1))\n",
    "    .reduceByKey(lambda a, b: a + b)\n",
    "    .sortBy(lambda p: p[1])\n",
    ")"
   ]
  },
  {
   "cell_type": "code",
   "execution_count": null,
   "id": "681b1af4",
   "metadata": {},
   "outputs": [],
   "source": [
    "countWords = rdd.toDF([\"word\",\"word_freq\"])"
   ]
  },
  {
   "cell_type": "code",
   "execution_count": null,
   "id": "7bc58532",
   "metadata": {},
   "outputs": [],
   "source": [
    "countWords.tail(10)"
   ]
  },
  {
   "cell_type": "markdown",
   "id": "8f2461b1",
   "metadata": {},
   "source": [
    "## Punto C - Word Frequency Body"
   ]
  },
  {
   "cell_type": "code",
   "execution_count": null,
   "id": "4be4c016",
   "metadata": {},
   "outputs": [],
   "source": [
    "df = spark.read.json(\"s3a://noticias2016/individual_files/news_0000001.json.gz\")"
   ]
  },
  {
   "cell_type": "code",
   "execution_count": null,
   "id": "dfff5b2f",
   "metadata": {},
   "outputs": [],
   "source": [
    "df.show()"
   ]
  },
  {
   "cell_type": "code",
   "execution_count": 7,
   "id": "1a7daf35",
   "metadata": {},
   "outputs": [],
   "source": [
    "df_body = test_df.select(\"text\")"
   ]
  },
  {
   "cell_type": "code",
   "execution_count": 8,
   "id": "b072b11d",
   "metadata": {},
   "outputs": [],
   "source": [
    "rdd_body = df_body.rdd.map(lambda x: [x[0]])"
   ]
  },
  {
   "cell_type": "code",
   "execution_count": 9,
   "id": "caf4f835",
   "metadata": {},
   "outputs": [],
   "source": [
    "import re\n",
    "rdd_parte1C = (\n",
    "    rdd_body.flatMap(lambda line: re.split(r\"\\W+\", str(line).lower()))\n",
    "    .filter(lambda z: re.match(r\"\\b[^\\W\\d_]+\\b\",z))\n",
    "    .filter(lambda x: x!= \"\")\n",
    "    .filter(lambda y: y not in col1)\n",
    "    .map(lambda w: (w, 1))\n",
    "    .reduceByKey(lambda a, b: a + b)\n",
    "    .sortBy(lambda p: p[1])\n",
    ")"
   ]
  },
  {
   "cell_type": "code",
   "execution_count": 10,
   "id": "cf932895",
   "metadata": {},
   "outputs": [],
   "source": [
    "countWordsBody = rdd_parte1C.toDF([\"word\",\"word_freq\"])"
   ]
  },
  {
   "cell_type": "code",
   "execution_count": 11,
   "id": "501c6cdf",
   "metadata": {},
   "outputs": [
    {
     "data": {
      "text/plain": [
       "[Row(word='octubre', word_freq=135809),\n",
       " Row(word='año', word_freq=147180),\n",
       " Row(word='gobierno', word_freq=147344),\n",
       " Row(word='nla', word_freq=163562),\n",
       " Row(word='ser', word_freq=170908),\n",
       " Row(word='dos', word_freq=193592),\n",
       " Row(word='si', word_freq=206173),\n",
       " Row(word='años', word_freq=215962),\n",
       " Row(word='nel', word_freq=261643),\n",
       " Row(word='n', word_freq=370688)]"
      ]
     },
     "execution_count": 11,
     "metadata": {},
     "output_type": "execute_result"
    }
   ],
   "source": [
    "countWordsBody.tail(10)"
   ]
  },
  {
   "cell_type": "code",
   "execution_count": null,
   "id": "4a356b4a",
   "metadata": {},
   "outputs": [],
   "source": []
  }
 ],
 "metadata": {
  "kernelspec": {
   "display_name": "Python 3",
   "language": "python",
   "name": "python3"
  },
  "language_info": {
   "codemirror_mode": {
    "name": "ipython",
    "version": 3
   },
   "file_extension": ".py",
   "mimetype": "text/x-python",
   "name": "python",
   "nbconvert_exporter": "python",
   "pygments_lexer": "ipython3",
   "version": "3.8.13"
  }
 },
 "nbformat": 4,
 "nbformat_minor": 5
}
