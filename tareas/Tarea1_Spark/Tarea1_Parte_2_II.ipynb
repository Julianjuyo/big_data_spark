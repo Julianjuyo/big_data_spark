{
 "cells": [
  {
   "cell_type": "code",
   "execution_count": 1,
   "id": "d41a2e3a",
   "metadata": {},
   "outputs": [
    {
     "name": "stdout",
     "output_type": "stream",
     "text": [
      "env: MINIO_PASSWORD=6HgSzdwj8eNpHcux\n",
      "env: MINIO_USERNAME=grupo-02\n"
     ]
    }
   ],
   "source": [
    "# !pip install matplotlib\n",
    "import os\n",
    "from pyspark.sql import SparkSession\n",
    "from pyspark import SparkConf\n",
    "from pyspark.sql import functions as f\n",
    "from pyspark.sql.types import StringType\n",
    "import pandas as pd\n",
    "import matplotlib.pyplot as plt\n",
    "\n",
    "# set local variables\n",
    "\n",
    "\n",
    "%env MINIO_PASSWORD 6HgSzdwj8eNpHcux\n",
    "%env MINIO_USERNAME grupo-02"
   ]
  },
  {
   "cell_type": "code",
   "execution_count": 2,
   "id": "9e883d0c",
   "metadata": {},
   "outputs": [],
   "source": [
    "\n",
    "os.environ[\n",
    "    \"PYSPARK_SUBMIT_ARGS\"\n",
    "] = \"--packages org.apache.hadoop:hadoop-aws:3.2.2,io.delta:delta-core_2.12:1.1.0  pyspark-shell \"\n",
    "config = {\n",
    "    \"spark.jars.packages\":\"org.apache.hadoop:hadoop-aws:3.2.2\",\n",
    "    \"spark.kubernetes.namespace\": \"spark\",\n",
    "    \"spark.kubernetes.container.image\": \"cronosnull/abd-spark-base:202301\",\n",
    "    \"spark.executor.instances\": \"20\",\n",
    "    \"spark.executor.memory\": \"10g\",\n",
    "    \"spark.executor.cores\": \"1\",\n",
    "    \"spark.driver.memory\":\"5g\",\n",
    "    \"spark.driver.port\":\"38891\",\n",
    "    \"spark.driver.blockManager.port\":\"7779\",\n",
    "    \"spark.driver.bindAddress\": \"0.0.0.0\",\n",
    "    \"spark.driver.host\":\"172.24.99.147\",\n",
    "    \"spark.kubernetes.executor.request.cores\":\"500m\",\n",
    "    \"spark.hadoop.fs.s3a.endpoint\": \"http://172.24.99.18:9000\",\n",
    "    # Credenciales de MinNIO, no olvide asignar las variables de entorno\n",
    "    \"spark.hadoop.fs.s3a.access.key\": os.environ.get('MINIO_USERNAME', \"--\"),\n",
    "    \"spark.hadoop.fs.s3a.secret.key\": os.environ.get('MINIO_PASSWORD',\"--\"),\n",
    "    \"spark.hadoop.fs.s3a.path.style.access\": True,\n",
    "    \"spark.hadoop.fs.s3a.impl\": \"org.apache.hadoop.fs.s3a.S3AFileSystem\",\n",
    "    \"spark.hadoop.fs.s3a.aws.credentials.provider\": \"org.apache.hadoop.fs.s3a.SimpleAWSCredentialsProvider\",\n",
    "    \"spark.kubernetes.local.dirs.tmpfs\":True,\n",
    "\n",
    "}\n",
    "def get_spark_session(app_name: str, conf: SparkConf):\n",
    "    conf.setMaster(\"k8s://https://172.24.99.68:16443\")\n",
    "    for key, value in config.items():\n",
    "        conf.set(key, value)\n",
    "    conf.set(\"spark.ui.port\", \"4041\");\n",
    "    return SparkSession.builder.appName(app_name).config(conf=conf).getOrCreate()"
   ]
  },
  {
   "cell_type": "code",
   "execution_count": 3,
   "id": "ceb70ac9",
   "metadata": {},
   "outputs": [],
   "source": [
    "spark = get_spark_session(\"grupo-02-app-prueba\", SparkConf())"
   ]
  },
  {
   "cell_type": "code",
   "execution_count": 4,
   "id": "abb19589",
   "metadata": {},
   "outputs": [
    {
     "name": "stdout",
     "output_type": "stream",
     "text": [
      "Welcome to\r\n",
      "      ____              __\r\n",
      "     / __/__  ___ _____/ /__\r\n",
      "    _\\ \\/ _ \\/ _ `/ __/  '_/\r\n",
      "   /___/ .__/\\_,_/_/ /_/\\_\\   version 3.2.0\r\n",
      "      /_/\r\n",
      "                        \r\n",
      "Using Scala version 2.12.15, OpenJDK 64-Bit Server VM, 1.8.0_322\r\n",
      "Branch \r\n",
      "Compiled by user  on 2022-03-26T09:34:47Z\r\n",
      "Revision \r\n",
      "Url \r\n",
      "Type --help for more information.\r\n"
     ]
    }
   ],
   "source": [
    "!spark-submit --version"
   ]
  },
  {
   "cell_type": "code",
   "execution_count": 5,
   "id": "b86152c9",
   "metadata": {},
   "outputs": [
    {
     "data": {
      "text/html": [
       "\n",
       "            <div>\n",
       "                <p><b>SparkSession - in-memory</b></p>\n",
       "                \n",
       "        <div>\n",
       "            <p><b>SparkContext</b></p>\n",
       "\n",
       "            <p><a href=\"http://172.24.99.147:4041\">Spark UI</a></p>\n",
       "\n",
       "            <dl>\n",
       "              <dt>Version</dt>\n",
       "                <dd><code>v3.2.0</code></dd>\n",
       "              <dt>Master</dt>\n",
       "                <dd><code>k8s://https://172.24.99.68:16443</code></dd>\n",
       "              <dt>AppName</dt>\n",
       "                <dd><code>grupo-02-app-prueba</code></dd>\n",
       "            </dl>\n",
       "        </div>\n",
       "        \n",
       "            </div>\n",
       "        "
      ],
      "text/plain": [
       "<pyspark.sql.session.SparkSession at 0x7f4d9b802eb0>"
      ]
     },
     "execution_count": 5,
     "metadata": {},
     "output_type": "execute_result"
    }
   ],
   "source": [
    "spark"
   ]
  },
  {
   "cell_type": "code",
   "execution_count": 6,
   "id": "849b22c2",
   "metadata": {},
   "outputs": [],
   "source": [
    "# spark.stop"
   ]
  },
  {
   "cell_type": "markdown",
   "id": "7dad772a",
   "metadata": {},
   "source": [
    "# Parte 2\n"
   ]
  },
  {
   "cell_type": "code",
   "execution_count": 7,
   "id": "d59c08ee",
   "metadata": {},
   "outputs": [],
   "source": [
    "from pyspark.sql.functions import to_timestamp\n",
    "from pyspark.sql.functions import col, when\n",
    "from pyspark.sql.functions import to_date\n",
    "from pyspark.sql.functions import date_format\n",
    "\n",
    "\n",
    "# Quitar espacios en los nombres es las columnas\n",
    "def remove_space_in_names(df):\n",
    "    for col_name in df.columns:\n",
    "        new_col_name = col_name.replace(' ', '')\n",
    "        df = df.withColumnRenamed(col_name, new_col_name)\n",
    "    return df\n",
    "\n",
    "\n",
    "# Cambiar los tipos de datos del dataframe\n",
    "# Falta Rate_Code, store_and_forward, mta_tax\n",
    "def change_name_and_data_type_G1(df):\n",
    "    \n",
    "    df = remove_space_in_names(df)\n",
    "\n",
    "    df = df.withColumnRenamed(\"Trip_Pickup_DateTime\", \"pickup_datetime\").withColumn(\"pickup_datetime\", to_timestamp(\"pickup_datetime\", \"yyyy-MM-dd HH:mm:ss\"))\n",
    "    df = df.withColumnRenamed(\"Trip_Dropoff_DateTime\", \"dropoff_datetime\").withColumn(\"dropoff_datetime\", to_timestamp(\"dropoff_datetime\", \"yyyy-MM-dd HH:mm:ss\")) \n",
    "    df = df.withColumnRenamed(\"Trip_Distance\", \"trip_distance\").withColumn(\"trip_distance\", col(\"trip_distance\").cast(\"double\"))\n",
    "    df = df.withColumnRenamed(\"Start_Lon\", \"pickup_longitude\").withColumn(\"pickup_longitude\", col(\"pickup_longitude\").cast(\"double\"))\n",
    "    df = df.withColumnRenamed(\"Start_Lat\", \"pickup_latitude\").withColumn(\"pickup_latitude\", col(\"pickup_latitude\").cast(\"double\"))\n",
    "    df = df.withColumnRenamed(\"End_Lon\", \"dropoff_longitude\").withColumn(\"dropoff_longitude\", col(\"dropoff_longitude\").cast(\"double\"))\n",
    "    df = df.withColumnRenamed(\"End_Lat\", \"dropoff_latitude\").withColumn(\"dropoff_latitude\", col(\"dropoff_latitude\").cast(\"double\"))\n",
    "    df = df.withColumnRenamed(\"Total_Amt\", \"total_amount\").withColumn(\"total_amount\", col(\"total_amount\").cast(\"double\"))\n",
    "    \n",
    "    #Crear nueva columna\n",
    "    df= df.withColumn(\"date_travel\", date_format(\"pickup_datetime\", \"yyyy-MM-dd\").alias(\"date_travel\"))\n",
    "    df = df.withColumn(\"date_travel\", to_date(\"date_travel\", \"yyyy-MM-dd\"))\n",
    "    \n",
    "    return df\n",
    "\n",
    "def change_name_and_data_type_G2(df):\n",
    "    \n",
    "    df = remove_space_in_names(df)\n",
    "\n",
    "    df = df.withColumnRenamed(\"pickup_datetime\", \"pickup_datetime\").withColumn(\"pickup_datetime\", to_timestamp(\"pickup_datetime\", \"yyyy-MM-dd HH:mm:ss\"))\n",
    "    df = df.withColumnRenamed(\"dropoff_datetime\", \"dropoff_datetime\").withColumn(\"dropoff_datetime\", to_timestamp(\"dropoff_datetime\", \"yyyy-MM-dd HH:mm:ss\"))\n",
    "    df = df.withColumnRenamed(\"trip_distance\", \"trip_distance\").withColumn(\"trip_distance\", col(\"trip_distance\").cast(\"double\"))\n",
    "    df = df.withColumnRenamed(\"pickup_longitude\", \"pickup_longitude\").withColumn(\"pickup_longitude\", col(\"pickup_longitude\").cast(\"double\"))\n",
    "    df = df.withColumnRenamed(\"pickup_latitude\", \"pickup_latitude\").withColumn(\"pickup_latitude\", col(\"pickup_latitude\").cast(\"double\"))\n",
    "    df = df.withColumnRenamed(\"dropoff_longitude\", \"dropoff_longitude\").withColumn(\"dropoff_longitude\", col(\"dropoff_longitude\").cast(\"double\"))\n",
    "    df = df.withColumnRenamed(\"dropoff_latitude\", \"dropoff_latitude\").withColumn(\"dropoff_latitude\", col(\"dropoff_latitude\").cast(\"double\"))\n",
    "    df = df.withColumnRenamed(\"total_amount\", \"total_amount\").withColumn(\"total_amount\", col(\"total_amount\").cast(\"double\"))\n",
    "    \n",
    "   \n",
    "    #Crear nueva columna\n",
    "    df= df.withColumn(\"date_travel\", date_format(\"pickup_datetime\", \"yyyy-MM-dd\").alias(\"date_travel\"))\n",
    "    df = df.withColumn(\"date_travel\", to_date(\"date_travel\", \"yyyy-MM-dd\"))\n",
    "    \n",
    "    return df\n",
    "\n",
    "\n",
    "def change_name_and_data_type_G3(df):\n",
    "    \n",
    "    df = remove_space_in_names(df)\n",
    "\n",
    "    \n",
    "    df = df.withColumnRenamed(\"tpep_pickup_datetime\", \"pickup_datetime\").withColumn(\"pickup_datetime\", to_timestamp(\"pickup_datetime\", \"yyyy-MM-dd HH:mm:ss\"))\n",
    "    df = df.withColumnRenamed(\"tpep_dropoff_datetime\", \"dropoff_datetime\").withColumn(\"dropoff_datetime\", to_timestamp(\"dropoff_datetime\", \"yyyy-MM-dd HH:mm:ss\"))\n",
    "    df = df.withColumnRenamed(\"trip_distance\", \"trip_distance\").withColumn(\"trip_distance\", col(\"trip_distance\").cast(\"double\"))\n",
    "    df = df.withColumnRenamed(\"pickup_longitude\", \"pickup_longitude\").withColumn(\"pickup_longitude\", col(\"pickup_longitude\").cast(\"double\"))\n",
    "    df = df.withColumnRenamed(\"pickup_latitude\", \"pickup_latitude\").withColumn(\"pickup_latitude\", col(\"pickup_latitude\").cast(\"double\"))\n",
    "    df = df.withColumnRenamed(\"dropoff_longitude\", \"dropoff_longitude\").withColumn(\"dropoff_longitude\", col(\"dropoff_longitude\").cast(\"double\"))\n",
    "    df = df.withColumnRenamed(\"dropoff_latitude\", \"dropoff_latitude\").withColumn(\"dropoff_latitude\", col(\"dropoff_latitude\").cast(\"double\"))\n",
    "    df = df.withColumnRenamed(\"total_amount\", \"total_amount\").withColumn(\"total_amount\", col(\"total_amount\").cast(\"double\"))\n",
    "   \n",
    "    #Eliminar columna no usada\n",
    "    df = df.drop(\"extra\")\n",
    "    \n",
    "   \n",
    "    #Crear nueva columna\n",
    "    df= df.withColumn(\"date_travel\", date_format(\"pickup_datetime\", \"yyyy-MM-dd\").alias(\"date_travel\"))\n",
    "    df = df.withColumn(\"date_travel\", to_date(\"date_travel\", \"yyyy-MM-dd\"))\n",
    "    \n",
    "    return df\n",
    "\n",
    "\n",
    "def change_name_and_data_type_G4(df):\n",
    "    \n",
    "    df = remove_space_in_names(df)\n",
    "\n",
    "    df = df.withColumnRenamed(\"tpep_pickup_datetime\", \"pickup_datetime\").withColumn(\"pickup_datetime\", to_timestamp(\"pickup_datetime\", \"yyyy-MM-dd HH:mm:ss\"))\n",
    "    df = df.withColumnRenamed(\"tpep_dropoff_datetime\", \"dropoff_datetime\").withColumn(\"dropoff_datetime\", to_timestamp(\"dropoff_datetime\", \"yyyy-MM-dd HH:mm:ss\"))\n",
    "    df = df.withColumnRenamed(\"trip_distance\", \"trip_distance\").withColumn(\"trip_distance\", col(\"trip_distance\").cast(\"double\"))\n",
    "    df = df.withColumn(\"PULocationID\", col(\"PULocationID\").cast(\"integer\"))\n",
    "    df = df.withColumn(\"DOLocationID\", col(\"DOLocationID\").cast(\"integer\"))\n",
    "    df = df.withColumnRenamed(\"total_amount\", \"total_amount\").withColumn(\"total_amount\", col(\"total_amount\").cast(\"double\"))\n",
    "    \n",
    "    #Eliminar columna no usada\n",
    "    df = df.drop(\"extra\")\n",
    "    \n",
    "    #Crear nueva columna\n",
    "    df= df.withColumn(\"date_travel\", date_format(\"pickup_datetime\", \"yyyy-MM-dd\").alias(\"date_travel\"))\n",
    "    df = df.withColumn(\"date_travel\", to_date(\"date_travel\", \"yyyy-MM-dd\"))\n",
    "    \n",
    "    return df"
   ]
  },
  {
   "cell_type": "code",
   "execution_count": 8,
   "id": "4a1a1400",
   "metadata": {},
   "outputs": [
    {
     "name": "stdout",
     "output_type": "stream",
     "text": [
      "root\n",
      " |-- pickup_datetime: timestamp (nullable = true)\n",
      " |-- dropoff_datetime: timestamp (nullable = true)\n",
      " |-- trip_distance: double (nullable = true)\n",
      " |-- pickup_longitude: double (nullable = true)\n",
      " |-- pickup_latitude: double (nullable = true)\n",
      " |-- dropoff_longitude: double (nullable = true)\n",
      " |-- dropoff_latitude: double (nullable = true)\n",
      " |-- total_amount: double (nullable = true)\n",
      " |-- date_travel: date (nullable = true)\n",
      "\n"
     ]
    }
   ],
   "source": [
    "# charge info group 1\n",
    "df_taxis_G1 = spark.read.csv(\"s3a://taxis/yellow_tripdata_2009-*.csv.gz\", header=True)\n",
    "df_taxis_G1 = df_taxis_G1.select(df_taxis_G1.Trip_Pickup_DateTime, df_taxis_G1.Trip_Dropoff_DateTime, df_taxis_G1.Trip_Distance, df_taxis_G1.Start_Lon, df_taxis_G1.Start_Lat, df_taxis_G1.End_Lon, df_taxis_G1.End_Lat, df_taxis_G1.Total_Amt)\n",
    "df_taxis_G1_change_type = change_name_and_data_type_G1(df_taxis_G1)\n",
    "\n",
    "df_taxis_G1_change_type.printSchema()"
   ]
  },
  {
   "cell_type": "code",
   "execution_count": null,
   "id": "c4241de3",
   "metadata": {},
   "outputs": [],
   "source": [
    "# charge info group 2\n",
    "\n",
    "df_taxis_G2_2010 = spark.read.csv(\"s3a://taxis/yellow_tripdata_2010-*.csv.gz\", header=True)\n",
    "df_taxis_G2_2010 = df_taxis_G2_2010.select(df_taxis_G2_2010.pickup_datetime , df_taxis_G2_2010.dropoff_datetime, df_taxis_G2_2010.trip_distance, df_taxis_G2_2010.pickup_longitude, df_taxis_G2_2010.pickup_latitude, df_taxis_G2_2010.dropoff_longitude, df_taxis_G2_2010.dropoff_latitude, df_taxis_G2_2010.total_amount)\n",
    "df_taxis_G2_2010_change_type = change_name_and_data_type_G2(df_taxis_G2_2010)\n",
    "\n",
    "\n",
    "df_taxis_G2_2011 = spark.read.csv(\"s3a://taxis/yellow_tripdata_2011-*.csv.gz\", header=True)\n",
    "df_taxis_G2_2011 = df_taxis_G2_2011.select(df_taxis_G2_2011.pickup_datetime , df_taxis_G2_2011.dropoff_datetime, df_taxis_G2_2011.trip_distance, df_taxis_G2_2011.pickup_longitude, df_taxis_G2_2011.pickup_latitude, df_taxis_G2_2011.dropoff_longitude, df_taxis_G2_2011.dropoff_latitude, df_taxis_G2_2011.total_amount)\n",
    "df_taxis_G2_2011_change_type = change_name_and_data_type_G2(df_taxis_G2_2011)\n",
    "\n",
    "df_taxis_G2_2012 = spark.read.csv(\"s3a://taxis/yellow_tripdata_2012-*.csv.gz\", header=True)\n",
    "df_taxis_G2_2012 = df_taxis_G2_2012.select(df_taxis_G2_2012.pickup_datetime , df_taxis_G2_2012.dropoff_datetime, df_taxis_G2_2012.trip_distance, df_taxis_G2_2012.pickup_longitude, df_taxis_G2_2012.pickup_latitude, df_taxis_G2_2012.dropoff_longitude, df_taxis_G2_2012.dropoff_latitude, df_taxis_G2_2012.total_amount)\n",
    "df_taxis_G2_2012_change_type = change_name_and_data_type_G2(df_taxis_G2_2012)\n",
    "\n",
    "df_taxis_G2_2013 = spark.read.csv(\"s3a://taxis/yellow_tripdata_2013-*.csv.gz\", header=True)\n",
    "df_taxis_G2_2013 = df_taxis_G2_2013.select(df_taxis_G2_2013.pickup_datetime , df_taxis_G2_2013.dropoff_datetime, df_taxis_G2_2013.trip_distance, df_taxis_G2_2013.pickup_longitude, df_taxis_G2_2013.pickup_latitude, df_taxis_G2_2013.dropoff_longitude, df_taxis_G2_2013.dropoff_latitude, df_taxis_G2_2013.total_amount)\n",
    "df_taxis_G2_2013_change_type = change_name_and_data_type_G2(df_taxis_G2_2013)\n",
    "\n",
    "df_taxis_G2_2014 = spark.read.csv(\"s3a://taxis/yellow_tripdata_2014-*.csv.gz\", header=True)\n",
    "df_taxis_G2_2014_change_type = change_name_and_data_type_G2(df_taxis_G2_2014)\n",
    "df_taxis_G2_2014 = df_taxis_G2_2014.select(df_taxis_G2_2014.pickup_datetime , df_taxis_G2_2014.dropoff_datetime, df_taxis_G2_2014.trip_distance, df_taxis_G2_2014.pickup_longitude, df_taxis_G2_2014.pickup_latitude, df_taxis_G2_2014.dropoff_longitude, df_taxis_G2_2014.dropoff_latitude, df_taxis_G2_2014.total_amount)\n",
    "\n",
    "\n",
    "df_taxis_G2_change_type = df_taxis_G2_2010_change_type.unionAll(df_taxis_G2_2011_change_type).unionAll(df_taxis_G2_2013_change_type).unionAll(df_taxis_G2_2014_change_type)\n",
    "\n",
    "df_taxis_G1_change_type.printSchema()\n"
   ]
  },
  {
   "cell_type": "code",
   "execution_count": null,
   "id": "5e538dfc",
   "metadata": {},
   "outputs": [],
   "source": [
    "# charge info group 3\n",
    "\n",
    "df_taxis_G3_2015 = spark.read.csv(\"s3a://taxis/yellow_tripdata_2015-*.csv.gz\", header=True)\n",
    "df_taxis_G3_2015 = df_taxis_G3_2015.select(df_taxis_G3_2015.tpep_pickup_datetime, df_taxis_G3_2015.tpep_dropoff_datetime, df_taxis_G3_2015.trip_distance, df_taxis_G3_2015.pickup_longitude, df_taxis_G3_2015.pickup_latitude, df_taxis_G3_2015.dropoff_longitude, df_taxis_G3_2015.dropoff_latitude, df_taxis_G3_2015.total_amount)\n",
    "df_taxis_G3_2015_change_type = change_name_and_data_type_G3(df_taxis_G3_2015)\n",
    "\n",
    "df_taxis_G3_2016 = spark.read.csv(\"s3a://taxis/yellow_tripdata_2016-*.csv.gz\", header=True)\n",
    "df_taxis_G3_2016 = df_taxis_G3_2016.select(df_taxis_G3_2016.tpep_pickup_datetime, df_taxis_G3_2016.tpep_dropoff_datetime, df_taxis_G3_2016.trip_distance, df_taxis_G3_2016.pickup_longitude, df_taxis_G3_2016.pickup_latitude, df_taxis_G3_2016.dropoff_longitude, df_taxis_G3_2016.dropoff_latitude, df_taxis_G3_2016.total_amount)\n",
    "df_taxis_G3_2016_change_type = change_name_and_data_type_G3(df_taxis_G3_2016)\n",
    "\n",
    "df_taxis_G3_change_type = df_taxis_G3_2015_change_type.unionAll(df_taxis_G3_2016_change_type)\n",
    "\n",
    "df_taxis_G3_change_type.printSchema()"
   ]
  },
  {
   "cell_type": "code",
   "execution_count": null,
   "id": "808b9f92",
   "metadata": {},
   "outputs": [],
   "source": [
    "# charge info group 4\n",
    "\n",
    "df_taxis_G4_2017 = spark.read.csv(\"s3a://taxis/yellow_tripdata_2017-*.csv.gz\", header=True)\n",
    "df_taxis_G4_2017 = df_taxis_G4_2017.select(df_taxis_G4_2017.tpep_pickup_datetime, df_taxis_G4_2017.tpep_dropoff_datetime, df_taxis_G4_2017.trip_distance, df_taxis_G4_2017.PULocationID, df_taxis_G4_2017.DOLocationID,  df_taxis_G4_2017.total_amount)\n",
    "df_taxis_G4_2017_change_type = change_name_and_data_type_G4(df_taxis_G4_2017)\n",
    "\n",
    "df_taxis_G4_2018 = spark.read.csv(\"s3a://taxis/yellow_tripdata_2018-*.csv.gz\", header=True)\n",
    "df_taxis_G4_2018 = df_taxis_G4_2018.select(df_taxis_G4_2018.tpep_pickup_datetime, df_taxis_G4_2018.tpep_dropoff_datetime, df_taxis_G4_2018.trip_distance, df_taxis_G4_2018.PULocationID, df_taxis_G4_2018.DOLocationID,  df_taxis_G4_2018.total_amount)\n",
    "df_taxis_G4_2018_change_type = change_name_and_data_type_G4(df_taxis_G4_2018)\n",
    "\n",
    "df_taxis_G4_2019 = spark.read.csv(\"s3a://taxis/yellow_tripdata_2019-*.csv.gz\", header=True)\n",
    "df_taxis_G4_2019 = df_taxis_G4_2019.select(df_taxis_G4_2019.tpep_pickup_datetime, df_taxis_G4_2019.tpep_dropoff_datetime, df_taxis_G4_2019.trip_distance, df_taxis_G4_2019.PULocationID, df_taxis_G4_2019.DOLocationID,  df_taxis_G4_2019.total_amount)\n",
    "df_taxis_G4_2019 = df_taxis_G4_2019.drop(\"congestion_surcharge\")\n",
    "df_taxis_G4_2019_change_type = change_name_and_data_type_G4(df_taxis_G4_2019)\n",
    "\n",
    "\n",
    "df_taxis_G4_change_type = df_taxis_G4_2017_change_type.unionAll(df_taxis_G4_2018_change_type).unionAll(df_taxis_G4_2019_change_type)\n",
    "\n",
    "df_taxis_G4_change_type.printSchema()\n",
    "\n"
   ]
  },
  {
   "cell_type": "code",
   "execution_count": null,
   "id": "6721829f",
   "metadata": {},
   "outputs": [],
   "source": [
    "# Add the zone name\n",
    "df_taxis_G4_change_type_2 = df_taxis_G4_change_type\n",
    "\n",
    "df_location_id = spark.read.csv(\"s3a://user-data/grupo-02/taxi+_zone_lookup.csv\", header=True)\n",
    "\n",
    "df_location_id.head(4)"
   ]
  },
  {
   "cell_type": "code",
   "execution_count": null,
   "id": "185b2ff1",
   "metadata": {},
   "outputs": [],
   "source": [
    "# Add the zone to the dataframe 4 \n",
    "df_taxis_G4_change_type_2 = df_taxis_G4_change_type\n",
    "\n",
    "df_taxis_G4_change_type_2 = df_taxis_G4_change_type_2.join(df_location_id, df_taxis_G4_change_type_2.PULocationID == df_location_id.LocationID).select(df_taxis_G4_change_type_2['*'], df_location_id['Zone'])\n",
    "df_taxis_G4_change_type_2 = df_taxis_G4_change_type_2.withColumnRenamed(\"Zone\", \"pickup_zone\")\n",
    "\n",
    "df_taxis_G4_change_type_2 = df_taxis_G4_change_type_2.alias('a').join(df_location_id.alias('b'), df_taxis_G4_change_type_2.alias('a').DOLocationID == df_location_id.alias('b').LocationID).select('a.*','b.Zone')\n",
    "df_taxis_G4_change_type_2 = df_taxis_G4_change_type_2.withColumnRenamed(\"Zone\", \"dropoff_zone\")\n",
    "    \n",
    "df_taxis_G4_change_type_2 = df_taxis_G4_change_type_2.drop('DOLocationID','PULocationID')\n",
    "df_taxis_G4_change_type_2.printSchema()\n",
    "\n"
   ]
  },
  {
   "cell_type": "code",
   "execution_count": 9,
   "id": "d2442455",
   "metadata": {},
   "outputs": [
    {
     "name": "stdout",
     "output_type": "stream",
     "text": [
      "root\n",
      " |-- pickup_datetime: timestamp (nullable = true)\n",
      " |-- dropoff_datetime: timestamp (nullable = true)\n",
      " |-- trip_distance: double (nullable = true)\n",
      " |-- pickup_longitude: double (nullable = true)\n",
      " |-- pickup_latitude: double (nullable = true)\n",
      " |-- dropoff_longitude: double (nullable = true)\n",
      " |-- dropoff_latitude: double (nullable = true)\n",
      " |-- total_amount: double (nullable = true)\n",
      " |-- date_travel: date (nullable = true)\n",
      "\n"
     ]
    }
   ],
   "source": [
    "# Join all the data with latitude and longitud\n",
    "\n",
    "df_taxis_with_lat_lon = df_taxis_G1_change_type.unionAll(df_taxis_G2_change_type).unionAll(df_taxis_G3_change_type)\n",
    "\n",
    "df_taxis_with_lat_lon.printSchema()"
   ]
  },
  {
   "cell_type": "markdown",
   "id": "bdc9ba73",
   "metadata": {},
   "source": [
    "## Geo pandas\n"
   ]
  },
  {
   "cell_type": "code",
   "execution_count": null,
   "id": "a341959c",
   "metadata": {},
   "outputs": [],
   "source": [
    "# !pip install geopandas"
   ]
  },
  {
   "cell_type": "code",
   "execution_count": 10,
   "id": "9f72e15b",
   "metadata": {},
   "outputs": [
    {
     "name": "stdout",
     "output_type": "stream",
     "text": [
      "root\n",
      " |-- OBJECTID: string (nullable = true)\n",
      " |-- Shape_Leng: string (nullable = true)\n",
      " |-- the_geom: string (nullable = true)\n",
      " |-- Shape_Area: string (nullable = true)\n",
      " |-- zone: string (nullable = true)\n",
      " |-- LocationID: string (nullable = true)\n",
      " |-- borough: string (nullable = true)\n",
      "\n",
      "OBJECTID        int64\n",
      "Shape_Leng    float64\n",
      "the_geom       object\n",
      "Shape_Area    float64\n",
      "zone           object\n",
      "LocationID      int64\n",
      "borough        object\n",
      "dtype: object\n"
     ]
    }
   ],
   "source": [
    "import pandas as pd\n",
    "import geopandas as gpd\n",
    "from shapely.geometry import Point, Polygon, shape\n",
    "from shapely import wkb, wkt\n",
    "from pyspark.sql.functions import *\n",
    "from pyspark.sql.types import StringType, IntegerType, FloatType, DoubleType,DecimalType\n",
    "from pyspark.sql.functions import pandas_udf, PandasUDFType\n",
    "from pyspark.sql.functions import udf\n",
    "\n",
    "import shapely.speedups\n",
    "shapely.speedups.enable() # this makes some spatial queries run faster\n",
    "\n",
    "#Load the data \n",
    "df_taxi_zones_csv = spark.read.csv(\"s3a://user-data/grupo-02/taxi_zones.csv\", header=True)\n",
    "df_taxi_zones_csv.printSchema()\n",
    "\n",
    "# define a function to convert a WKT string to a Shapely geometry object\n",
    "def wkt_to_geometry(wkt_str):\n",
    "    return wkt.loads(wkt_str)\n",
    "\n",
    "# read in the CSV file and convert the 'the_geom' column to a geometry data type\n",
    "df_taxi_zones_csv = pd.read_csv(\"taxi_zones.csv\", dtype={'the_geom': 'str'}).assign(the_geom=lambda x: x['the_geom'].apply(wkt_to_geometry))\n",
    "\n",
    "# print the data types of the columns\n",
    "print(df_taxi_zones_csv.dtypes)\n",
    "\n",
    "gdf  = gpd.GeoDataFrame(df_taxi_zones_csv, geometry='the_geom')\n",
    "\n",
    "# spark.broadcast(gdf)\n",
    "\n",
    "def find_zone(latitude, longitude): \n",
    "    mgdf = gdf.apply(lambda x: x['zone'] if x['the_geom'].intersects(Point(longitude,latitude)) else None, axis=1)\n",
    "    idx = mgdf.first_valid_index()\n",
    "    first_valid_value = mgdf.loc[idx] if idx is not None else None\n",
    "    return first_valid_value\n",
    "\n",
    "\n",
    "\n",
    "find_zone_udf = udf(lambda lat, lon: find_zone(lat, lon), StringType())\n",
    "\n",
    "\n"
   ]
  },
  {
   "cell_type": "code",
   "execution_count": 11,
   "id": "96695808",
   "metadata": {},
   "outputs": [
    {
     "name": "stdout",
     "output_type": "stream",
     "text": [
      "root\n",
      " |-- pickup_datetime: timestamp (nullable = true)\n",
      " |-- dropoff_datetime: timestamp (nullable = true)\n",
      " |-- trip_distance: double (nullable = true)\n",
      " |-- total_amount: double (nullable = true)\n",
      " |-- date_travel: date (nullable = true)\n",
      " |-- pickup_zone: string (nullable = true)\n",
      " |-- dropoff_zone: string (nullable = true)\n",
      "\n"
     ]
    }
   ],
   "source": [
    "\n",
    "df_taxis_with_lat_lon= df_taxis_with_lat_lon.withColumn(\"pickup_zone\", find_zone_udf(col(\"pickup_latitude\"),col(\"pickup_longitude\")))\n",
    "\n",
    "df_taxis_with_lat_lon= df_taxis_with_lat_lon.withColumn(\"dropoff_zone\", find_zone_udf(col(\"dropoff_latitude\"),col(\"dropoff_longitude\")))\n",
    "\n",
    "df_taxis_with_lat_lon = df_taxis_with_lat_lon.drop('pickup_latitude','pickup_longitude','dropoff_latitude','dropoff_longitude')\n",
    "df_taxis_with_lat_lon.printSchema()\n"
   ]
  },
  {
   "cell_type": "code",
   "execution_count": 12,
   "id": "15286f8e",
   "metadata": {},
   "outputs": [
    {
     "name": "stdout",
     "output_type": "stream",
     "text": [
      "root\n",
      " |-- pickup_datetime: timestamp (nullable = true)\n",
      " |-- dropoff_datetime: timestamp (nullable = true)\n",
      " |-- trip_distance: double (nullable = true)\n",
      " |-- total_amount: double (nullable = true)\n",
      " |-- date_travel: date (nullable = true)\n",
      " |-- pickup_zone: string (nullable = true)\n",
      " |-- dropoff_zone: string (nullable = true)\n",
      " |-- year_travel: integer (nullable = true)\n",
      " |-- month_travel: integer (nullable = true)\n",
      " |-- day_travel: integer (nullable = true)\n",
      "\n"
     ]
    }
   ],
   "source": [
    "# Join all the data\n",
    "\n",
    "final_df_taxi_zones  = df_taxis_with_lat_lon.unionAll(df_taxis_G4_change_type_2)\n",
    "\n",
    "final_df_taxi_zones= final_df_taxi_zones.withColumn(\"year_travel\", date_format(\"pickup_datetime\", \"yyyy\").alias(\"year_travel\"))\n",
    "final_df_taxi_zones= final_df_taxi_zones.withColumn(\"month_travel\", date_format(\"pickup_datetime\", \"MM\").alias(\"month_travel\"))\n",
    "final_df_taxi_zones= final_df_taxi_zones.withColumn(\"day_travel\", date_format(\"pickup_datetime\", \"dd\").alias(\"day_travel\"))\n",
    "\n",
    "\n",
    "final_df_taxi_zones = final_df_taxi_zones.withColumn(\"year_travel\", col(\"year_travel\").cast(\"integer\"))\n",
    "final_df_taxi_zones = final_df_taxi_zones.withColumn(\"month_travel\", col(\"year_travel\").cast(\"integer\"))\n",
    "final_df_taxi_zones = final_df_taxi_zones.withColumn(\"day_travel\", col(\"year_travel\").cast(\"integer\"))\n",
    "\n",
    "\n",
    "final_df_taxi_zones.printSchema()\n"
   ]
  },
  {
   "cell_type": "code",
   "execution_count": null,
   "id": "914befa6",
   "metadata": {},
   "outputs": [],
   "source": [
    "# Se crea un dataframe para analizar los datos\n",
    "\n",
    "pd_df_final_df_taxi_zones = final_df_taxi_zones.toPandas()\n"
   ]
  },
  {
   "cell_type": "code",
   "execution_count": null,
   "id": "351e8804",
   "metadata": {},
   "outputs": [],
   "source": [
    "# Se sube el CSV a Minio\n",
    "\n",
    "final_df_taxi_zones.write.mode(\"overwrite\").csv(\"s3a://user-data/grupo-02/prueba/final_df_taxi_zones.csv\")"
   ]
  },
  {
   "cell_type": "markdown",
   "id": "624846de",
   "metadata": {},
   "source": [
    "# Analisis de los datos\n"
   ]
  },
  {
   "cell_type": "code",
   "execution_count": null,
   "id": "5bf31b8a",
   "metadata": {},
   "outputs": [],
   "source": []
  },
  {
   "cell_type": "markdown",
   "id": "12a27cf3",
   "metadata": {},
   "source": [
    "## Punto G\n"
   ]
  },
  {
   "cell_type": "code",
   "execution_count": 35,
   "id": "71fb5d9b",
   "metadata": {},
   "outputs": [],
   "source": [
    "from pyspark.sql.functions import year\n",
    "import matplotlib.pyplot as plt\n",
    "import pandas as pd\n",
    "import numpy as np\n",
    "from matplotlib.ticker import FixedLocator"
   ]
  },
  {
   "cell_type": "code",
   "execution_count": 36,
   "id": "580eb9e0",
   "metadata": {},
   "outputs": [],
   "source": [
    "# columnas \n",
    "data = final_df_taxi_zones.select(\"pickup_zone\", \"dropoff_zone\", \"year_travel\")\n"
   ]
  },
  {
   "cell_type": "code",
   "execution_count": 38,
   "id": "b09a0bd6",
   "metadata": {},
   "outputs": [],
   "source": [
    "# Agrupar por año, zona de origen y zona de entrega y hacer el conteo\n",
    "grouped_data = data.groupBy(\"year_travel\", \"pickup_zone\", \"dropoff_zone\").count()\n"
   ]
  },
  {
   "cell_type": "code",
   "execution_count": 39,
   "id": "0b0051b1",
   "metadata": {},
   "outputs": [],
   "source": [
    "# Ordenar por año y conteo de manera descendente\n",
    "sorted_data = grouped_data.orderBy(\"year_travel\", \"count\", ascending=[True, False])\n"
   ]
  },
  {
   "cell_type": "code",
   "execution_count": 40,
   "id": "68a3f0dd",
   "metadata": {},
   "outputs": [],
   "source": [
    "\n",
    "# pivote con zonas de \n",
    "pivoted_data = pd.pivot_table(sorted_data.toPandas(), values=\"count\", index=[\"pickup_zone\"], columns=[\"dropoff_zone\"])\n"
   ]
  },
  {
   "cell_type": "code",
   "execution_count": 41,
   "id": "00baecde",
   "metadata": {},
   "outputs": [
    {
     "name": "stderr",
     "output_type": "stream",
     "text": [
      "<ipython-input-41-0135cb2f5da8>:10: UserWarning: FixedFormatter should only be used together with FixedLocator\n",
      "  ax.set_xticklabels(pivoted_data.columns, minor=False, rotation=90, ha=\"center\", fontsize=8)\n",
      "<ipython-input-41-0135cb2f5da8>:12: UserWarning: FixedFormatter should only be used together with FixedLocator\n",
      "  ax.set_yticklabels(pivoted_data.index, minor=False, fontsize=8)\n"
     ]
    },
    {
     "data": {
      "image/png": "[encoded data removed]",
      "text/plain": [
       "<Figure size 432x288 with 1 Axes>"
      ]
     },
     "metadata": {
      "needs_background": "light"
     },
     "output_type": "display_data"
    }
   ],
   "source": [
    "\n",
    "# Obtener una matriz NumPy de los valores de la tabla\n",
    "matrix_data = pivoted_data.values\n",
    "\n",
    "fig, ax = plt.subplots()\n",
    "\n",
    "# matriz de calor\n",
    "heatmap = ax.pcolor(matrix_data, cmap=plt.cm.Blues)\n",
    "\n",
    "# etiquetas de eje\n",
    "ax.set_xticklabels(pivoted_data.columns, minor=False, rotation=90, ha=\"center\", fontsize=8)\n",
    "ax.xaxis.set_major_locator(FixedLocator(np.arange(0.5, len(pivoted_data.columns), 1)))\n",
    "ax.set_yticklabels(pivoted_data.index, minor=False, fontsize=8)\n",
    "ax.yaxis.set_major_locator(FixedLocator(np.arange(0.5, len(pivoted_data.index), 1)))\n",
    "\n",
    "\n",
    "# Rotar las etiquetas de eje x \n",
    "plt.xticks(rotation=90)\n",
    "\n",
    "# título\n",
    "plt.title('Matriz de calor de recuento de viajes')\n",
    "\n",
    "plt.show()"
   ]
  },
  {
   "cell_type": "markdown",
   "id": "313f3cb2",
   "metadata": {},
   "source": [
    "## Punto H\n"
   ]
  },
  {
   "cell_type": "code",
   "execution_count": 24,
   "id": "aef14a54",
   "metadata": {},
   "outputs": [],
   "source": [
    "from pyspark.sql.functions import count, desc\n"
   ]
  },
  {
   "cell_type": "code",
   "execution_count": 25,
   "id": "6a59f5b8",
   "metadata": {},
   "outputs": [],
   "source": [
    "most_popular_destinations_per_years = final_df_taxi_zones.groupBy('year_travel', 'dropoff_zone').count()"
   ]
  },
  {
   "cell_type": "code",
   "execution_count": 26,
   "id": "86e73342",
   "metadata": {},
   "outputs": [],
   "source": [
    "most_popular_destinations_per_years_sorted = most_popular_destinations_per_years.orderBy(['year_travel', 'count'], ascending=[False, False])\n"
   ]
  },
  {
   "cell_type": "code",
   "execution_count": 27,
   "id": "087b7f6a",
   "metadata": {},
   "outputs": [
    {
     "data": {
      "text/plain": [
       "[Row(year_travel=2009, dropoff_zone='Midtown Center', count=76),\n",
       " Row(year_travel=2009, dropoff_zone='Murray Hill', count=61),\n",
       " Row(year_travel=2009, dropoff_zone='Times Sq/Theatre District', count=60),\n",
       " Row(year_travel=2009, dropoff_zone='Upper East Side North', count=55),\n",
       " Row(year_travel=2009, dropoff_zone='Upper East Side South', count=53),\n",
       " Row(year_travel=2009, dropoff_zone='Penn Station/Madison Sq West', count=51),\n",
       " Row(year_travel=2009, dropoff_zone='Midtown North', count=49),\n",
       " Row(year_travel=2009, dropoff_zone='Lenox Hill West', count=48),\n",
       " Row(year_travel=2009, dropoff_zone='Union Sq', count=48),\n",
       " Row(year_travel=2009, dropoff_zone='East Village', count=45),\n",
       " Row(year_travel=2009, dropoff_zone=None, count=44),\n",
       " Row(year_travel=2009, dropoff_zone='Midtown East', count=40),\n",
       " Row(year_travel=2009, dropoff_zone='Upper West Side South', count=40),\n",
       " Row(year_travel=2009, dropoff_zone='Sutton Place/Turtle Bay North', count=39),\n",
       " Row(year_travel=2009, dropoff_zone='Lincoln Square East', count=38),\n",
       " Row(year_travel=2009, dropoff_zone='Midtown South', count=38),\n",
       " Row(year_travel=2009, dropoff_zone='East Chelsea', count=35),\n",
       " Row(year_travel=2009, dropoff_zone='Gramercy', count=33),\n",
       " Row(year_travel=2009, dropoff_zone='Upper West Side North', count=33),\n",
       " Row(year_travel=2009, dropoff_zone='West Village', count=31)]"
      ]
     },
     "execution_count": 27,
     "metadata": {},
     "output_type": "execute_result"
    }
   ],
   "source": [
    "most_popular_destinations_per_years_sorted.head(20)\n"
   ]
  },
  {
   "cell_type": "markdown",
   "id": "e20cdd61",
   "metadata": {},
   "source": [
    "## Punto I"
   ]
  },
  {
   "cell_type": "code",
   "execution_count": 28,
   "id": "42393bf5",
   "metadata": {},
   "outputs": [],
   "source": [
    "from pyspark.sql.functions import sum\n",
    "from pyspark.sql.functions import lit"
   ]
  },
  {
   "cell_type": "code",
   "execution_count": 29,
   "id": "dc9ef8ea",
   "metadata": {},
   "outputs": [],
   "source": [
    "df_km_per_year = final_df_taxi_zones.groupby('year_travel').agg(sum('trip_distance').alias('trip_distance'))\n"
   ]
  },
  {
   "cell_type": "code",
   "execution_count": 30,
   "id": "08c51ec5",
   "metadata": {},
   "outputs": [
    {
     "name": "stdout",
     "output_type": "stream",
     "text": [
      "+-----------+-------------+----------------+\n",
      "|year_travel|trip_distance|trip_distance_km|\n",
      "+-----------+-------------+----------------+\n",
      "|       2009|     4669.226|  7514.390847744|\n",
      "+-----------+-------------+----------------+\n",
      "\n"
     ]
    }
   ],
   "source": [
    "# convert miles to kilometers\n",
    "df_km_per_year = df_km_per_year.withColumn('trip_distance_km', df_km_per_year['trip_distance'] * lit(1.609344))\n"
   ]
  },
  {
   "cell_type": "code",
   "execution_count": 31,
   "id": "8e3e02d8",
   "metadata": {},
   "outputs": [],
   "source": [
    "# convert spark df into pandas dataframe\n",
    "pd_df_df_km_per_year = df_km_per_year.toPandas()"
   ]
  },
  {
   "cell_type": "code",
   "execution_count": 34,
   "id": "f532b71a",
   "metadata": {},
   "outputs": [
    {
     "data": {
      "image/png": "[encoded data removed]",
      "text/plain": [
       "<Figure size 432x288 with 1 Axes>"
      ]
     },
     "metadata": {
      "needs_background": "light"
     },
     "output_type": "display_data"
    }
   ],
   "source": [
    "plt.plot(pd_df_df_km_per_year[\"year_travel\"], pd_df_df_km_per_year[\"trip_distance_km\"], '-o')\n",
    "\n",
    "\n",
    "plt.xlabel('Año')\n",
    "plt.xlim(2007, 2020)\n",
    "\n",
    "plt.ylabel('Distancia total recorrida en Kilometros ')\n",
    "\n",
    "plt.title(' Distancia total recorrida en Kilometros por año')\n",
    "\n",
    "plt.show()"
   ]
  },
  {
   "cell_type": "markdown",
   "id": "2c610999",
   "metadata": {},
   "source": [
    "## Punto J"
   ]
  },
  {
   "cell_type": "code",
   "execution_count": 13,
   "id": "08b40a0b",
   "metadata": {},
   "outputs": [],
   "source": [
    "most_popular_destination_per_year_per_month = final_df_taxi_zones.groupby([\"year_travel\", \"month_travel\", 'dropoff_zone']).count()"
   ]
  },
  {
   "cell_type": "code",
   "execution_count": 14,
   "id": "e9dcf144",
   "metadata": {},
   "outputs": [],
   "source": [
    "from pyspark.sql.functions import count, desc, mean"
   ]
  },
  {
   "cell_type": "code",
   "execution_count": 15,
   "id": "7e918135",
   "metadata": {},
   "outputs": [],
   "source": [
    "most_popular_destination_per_year_per_month = most_popular_destination_per_year_per_month.orderBy(['year_travel', 'month_travel', 'count'], ascending=[False, False, False])"
   ]
  },
  {
   "cell_type": "code",
   "execution_count": 16,
   "id": "b1a36b86",
   "metadata": {},
   "outputs": [
    {
     "data": {
      "text/plain": [
       "[Row(year_travel=2009, month_travel=2009, dropoff_zone='Midtown Center', count=76),\n",
       " Row(year_travel=2009, month_travel=2009, dropoff_zone='Murray Hill', count=61),\n",
       " Row(year_travel=2009, month_travel=2009, dropoff_zone='Times Sq/Theatre District', count=60),\n",
       " Row(year_travel=2009, month_travel=2009, dropoff_zone='Upper East Side North', count=55),\n",
       " Row(year_travel=2009, month_travel=2009, dropoff_zone='Upper East Side South', count=53),\n",
       " Row(year_travel=2009, month_travel=2009, dropoff_zone='Penn Station/Madison Sq West', count=51),\n",
       " Row(year_travel=2009, month_travel=2009, dropoff_zone='Midtown North', count=49),\n",
       " Row(year_travel=2009, month_travel=2009, dropoff_zone='Lenox Hill West', count=48),\n",
       " Row(year_travel=2009, month_travel=2009, dropoff_zone='Union Sq', count=48),\n",
       " Row(year_travel=2009, month_travel=2009, dropoff_zone='East Village', count=45)]"
      ]
     },
     "execution_count": 16,
     "metadata": {},
     "output_type": "execute_result"
    }
   ],
   "source": [
    "most_popular_destination_per_year_per_month.head(10)"
   ]
  },
  {
   "cell_type": "markdown",
   "id": "8677b595",
   "metadata": {},
   "source": [
    "## Punto K"
   ]
  },
  {
   "cell_type": "markdown",
   "id": "af77a426",
   "metadata": {},
   "source": [
    "¿Cuál es la tarifa promedio por destino por año?"
   ]
  },
  {
   "cell_type": "code",
   "execution_count": 19,
   "id": "6375e65f",
   "metadata": {},
   "outputs": [],
   "source": [
    "most_expensive_destination_per_year = final_df_taxi_zones.groupby([\"year_travel\", 'dropoff_zone']).agg(mean(\"total_amount\"))\n"
   ]
  },
  {
   "cell_type": "code",
   "execution_count": 20,
   "id": "f32ee2b0",
   "metadata": {},
   "outputs": [],
   "source": [
    "most_expensive_destination_per_year = final_df_taxi_zones.groupby([\"year_travel\", 'dropoff_zone']).agg(mean(\"total_amount\"))\n"
   ]
  },
  {
   "cell_type": "code",
   "execution_count": 21,
   "id": "5b062239",
   "metadata": {},
   "outputs": [
    {
     "data": {
      "text/plain": [
       "[Row(year_travel=2009, dropoff_zone='Newark Airport', avg(total_amount)=70.14999999999999),\n",
       " Row(year_travel=2009, dropoff_zone='Sunset Park West', avg(total_amount)=52.7),\n",
       " Row(year_travel=2009, dropoff_zone='Madison', avg(total_amount)=51.17),\n",
       " Row(year_travel=2009, dropoff_zone='JFK Airport', avg(total_amount)=48.22923076923077),\n",
       " Row(year_travel=2009, dropoff_zone='Allerton/Pelham Gardens', avg(total_amount)=47.8),\n",
       " Row(year_travel=2009, dropoff_zone='University Heights/Morris Heights', avg(total_amount)=47.3),\n",
       " Row(year_travel=2009, dropoff_zone='Fort Greene', avg(total_amount)=45.0),\n",
       " Row(year_travel=2009, dropoff_zone='Bensonhurst West', avg(total_amount)=44.2),\n",
       " Row(year_travel=2009, dropoff_zone='Bay Ridge', avg(total_amount)=39.8),\n",
       " Row(year_travel=2009, dropoff_zone='Spuyten Duyvil/Kingsbridge', avg(total_amount)=39.735)]"
      ]
     },
     "execution_count": 21,
     "metadata": {},
     "output_type": "execute_result"
    }
   ],
   "source": [
    "most_expensive_destination_per_year.head(10)"
   ]
  }
 ],
 "metadata": {
  "kernelspec": {
   "display_name": "Python 3",
   "language": "python",
   "name": "python3"
  },
  "language_info": {
   "codemirror_mode": {
    "name": "ipython",
    "version": 3
   },
   "file_extension": ".py",
   "mimetype": "text/x-python",
   "name": "python",
   "nbconvert_exporter": "python",
   "pygments_lexer": "ipython3",
   "version": "3.8.13"
  }
 },
 "nbformat": 4,
 "nbformat_minor": 5
}
